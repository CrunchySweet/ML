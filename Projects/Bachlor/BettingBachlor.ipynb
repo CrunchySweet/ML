{
 "cells": [
  {
   "cell_type": "markdown",
   "id": "1b940825",
   "metadata": {},
   "source": [
    "# RFP: Betting on the Bachelor\n",
    "\n",
    "## Project Overview\n",
    "You are invited to submit a proposal that answers the following question:\n",
    "\n",
    "### Who will win season 29 of the Bachelor?\n",
    "\n",
    "*All proposals must be submitted by **1/15/25 at 11:59 PM**.*"
   ]
  },
  {
   "cell_type": "markdown",
   "id": "968a85f0",
   "metadata": {},
   "source": [
    "## Required Proposal Components\n",
    "\n",
    "### 1. Data Description\n",
    "In the code cell below, read in the data you plan on using to train and test your model. Call `info()` once you have read the data into a dataframe. Consider using some or all of the following sources:\n",
    "- [Scrape Fandom Wikis](https://bachelor-nation.fandom.com/wiki/The_Bachelor) or [the official Bachelor website]('https://bachelornation.com/shows/the-bachelor/')\n",
    "- [Ask ChatGPT to genereate it](https://chatgpt.com/)\n",
    "- [Read in csv files like this](https://www.kaggle.com/datasets/brianbgonz/the-bachelor-contestants?select=contestants.csv)\n",
    "\n",
    "*Note, a level 5 dataset contains at least 1000 rows of non-null data. A level 4 contains at least 500 rows of non-null data.*"
   ]
  },
  {
   "cell_type": "code",
   "execution_count": 2,
   "id": "5ae40f0d",
   "metadata": {},
   "outputs": [],
   "source": [
    "import pandas as pd\n",
    "import seaborn as sns\n",
    "import numpy as np\n",
    "import requests\n",
    "from bs4 import BeautifulSoup\n",
    "from sklearn.model_selection import train_test_split\n",
    "from sklearn.linear_model import LinearRegression"
   ]
  },
  {
   "cell_type": "code",
   "execution_count": 3,
   "id": "decb0fe4",
   "metadata": {},
   "outputs": [],
   "source": [
    "df = pd.read_csv(\"contestants.csv\")"
   ]
  },
  {
   "cell_type": "code",
   "execution_count": 4,
   "id": "501c931f",
   "metadata": {},
   "outputs": [
    {
     "name": "stdout",
     "output_type": "stream",
     "text": [
      "<class 'pandas.core.frame.DataFrame'>\n",
      "RangeIndex: 423 entries, 0 to 422\n",
      "Data columns (total 7 columns):\n",
      " #   Column      Non-Null Count  Dtype  \n",
      "---  ------      --------------  -----  \n",
      " 0   Name        423 non-null    object \n",
      " 1   Age         422 non-null    float64\n",
      " 2   Occupation  423 non-null    object \n",
      " 3   Hometown    423 non-null    object \n",
      " 4   Height      30 non-null     float64\n",
      " 5   ElimWeek    406 non-null    float64\n",
      " 6   Season      423 non-null    int64  \n",
      "dtypes: float64(3), int64(1), object(3)\n",
      "memory usage: 23.3+ KB\n"
     ]
    }
   ],
   "source": [
    "df.info()"
   ]
  },
  {
   "cell_type": "code",
   "execution_count": 5,
   "id": "472e9683",
   "metadata": {},
   "outputs": [],
   "source": [
    "df = df.drop([\"Height\"], axis=1)\n",
    "df = df.dropna()"
   ]
  },
  {
   "cell_type": "code",
   "execution_count": 6,
   "id": "24a9b177",
   "metadata": {},
   "outputs": [],
   "source": [
    "i = 3\n",
    "nCont ={\"Name\":[]}\n",
    "while i <= 4:\n",
    "    url = \"https://bachelor-nation.fandom.com/wiki/The_Bachelor_(Season_\"+str(i)+\")\"\n",
    "    response =requests.get(url)\n",
    "    html_con = response.text\n",
    "    soup = BeautifulSoup(html_con, 'html.parser')\n",
    "    uls = soup.find_all(\"td\",{\"\":\"\"})\n",
    "    cursor = 2\n",
    "    Contestants ={\"Contestants\":[]}\n",
    "    Contest ={\"Con\":[]}\n",
    "    for a in uls:\n",
    "        Con = a.get_text()\n",
    "        Con = Con.strip()\n",
    "        result = Con.split()\n",
    "        Contestants[\"Contestants\"].append(Con)\n",
    "    for idx in range(len(Contestants[\"Contestants\"])):\n",
    "        if len(Contest[\"Con\"]) < 25:\n",
    "            if idx == cursor:\n",
    "                Contest[\"Con\"].append(Contestants[\"Contestants\"][idx])\n",
    "                cursor += 5\n",
    "    nCont[\"Name\"].extend(Contest[\"Con\"])        \n",
    "    i += 1"
   ]
  },
  {
   "cell_type": "code",
   "execution_count": 7,
   "id": "764866df",
   "metadata": {},
   "outputs": [],
   "source": [
    "i = 6\n",
    "Cont ={\"Name\":[]}\n",
    "while i <= 7:\n",
    "    url = \"https://bachelor-nation.fandom.com/wiki/The_Bachelor_(Season_\"+str(i)+\")\"\n",
    "    response =requests.get(url)\n",
    "    html_con = response.text\n",
    "    soup = BeautifulSoup(html_con, 'html.parser')\n",
    "    uls = soup.find_all(\"td\",{\"\":\"\"})\n",
    "    cursor = 2\n",
    "    Contestants ={\"Contestants\":[]}\n",
    "    Contest ={\"Con\":[]}\n",
    "    for a in uls:\n",
    "        Con = a.get_text()\n",
    "        Con = Con.strip()\n",
    "        result = Con.split()\n",
    "        Contestants[\"Contestants\"].append(Con)\n",
    "    for idx in range(len(Contestants[\"Contestants\"])):\n",
    "        if len(Contest[\"Con\"]) < 25:\n",
    "            if idx == cursor:\n",
    "                Contest[\"Con\"].append(Contestants[\"Contestants\"][idx])\n",
    "                cursor += 5\n",
    "    Cont[\"Name\"].extend(Contest[\"Con\"])        \n",
    "    i += 1"
   ]
  },
  {
   "cell_type": "code",
   "execution_count": 8,
   "id": "fe54a6dd",
   "metadata": {},
   "outputs": [],
   "source": [
    "i = 3\n",
    "nContes ={\"Age\":[]}\n",
    "while i <= 4:\n",
    "    url = \"https://bachelor-nation.fandom.com/wiki/The_Bachelor_(Season_\"+str(i)+\")\"\n",
    "    response =requests.get(url)\n",
    "    html_con = response.text\n",
    "    soup = BeautifulSoup(html_con, 'html.parser')\n",
    "    uls = soup.find_all(\"td\",{\"\":\"\"})\n",
    "    cursor = 3\n",
    "    Contestants ={\"Contestants\":[]}\n",
    "    Contest ={\"Con\":[]}\n",
    "    for a in uls:\n",
    "        Con = a.get_text()\n",
    "        Con = Con.strip()\n",
    "        result = Con.split()\n",
    "        Contestants[\"Contestants\"].append(Con)\n",
    "    for idx in range(len(Contestants[\"Contestants\"])):\n",
    "        if len(Contest[\"Con\"]) < 25:\n",
    "            if idx == cursor:\n",
    "                Contest[\"Con\"].append(Contestants[\"Contestants\"][idx])\n",
    "                cursor += 5\n",
    "    nContes[\"Age\"].extend(Contest[\"Con\"])        \n",
    "    i += 1"
   ]
  },
  {
   "cell_type": "code",
   "execution_count": 9,
   "id": "ebf82f98",
   "metadata": {},
   "outputs": [],
   "source": [
    "i = 6\n",
    "Contes ={\"Age\":[]}\n",
    "while i <= 7:\n",
    "    url = \"https://bachelor-nation.fandom.com/wiki/The_Bachelor_(Season_\"+str(i)+\")\"\n",
    "    response =requests.get(url)\n",
    "    html_con = response.text\n",
    "    soup = BeautifulSoup(html_con, 'html.parser')\n",
    "    uls = soup.find_all(\"td\",{\"\":\"\"})\n",
    "    cursor = 3\n",
    "    Contestants ={\"Contestants\":[]}\n",
    "    Contest ={\"Con\":[]}\n",
    "    for a in uls:\n",
    "        Con = a.get_text()\n",
    "        Con = Con.strip()\n",
    "        result = Con.split()\n",
    "        Contestants[\"Contestants\"].append(Con)\n",
    "    for idx in range(len(Contestants[\"Contestants\"])):\n",
    "        if len(Contest[\"Con\"]) < 25:\n",
    "            if idx == cursor:\n",
    "                Contest[\"Con\"].append(Contestants[\"Contestants\"][idx])\n",
    "                cursor += 5\n",
    "    Contes[\"Age\"].extend(Contest[\"Con\"])        \n",
    "    i += 1"
   ]
  },
  {
   "cell_type": "code",
   "execution_count": 10,
   "id": "d6a58023",
   "metadata": {},
   "outputs": [],
   "source": [
    "i = 3\n",
    "nContesy ={\"From\":[]}\n",
    "while i <= 4:\n",
    "    url = \"https://bachelor-nation.fandom.com/wiki/The_Bachelor_(Season_\"+str(i)+\")\"\n",
    "    response =requests.get(url)\n",
    "    html_con = response.text\n",
    "    soup = BeautifulSoup(html_con, 'html.parser')\n",
    "    uls = soup.find_all(\"td\",{\"\":\"\"})\n",
    "    cursor = 4\n",
    "    Contestants ={\"Contestants\":[]}\n",
    "    Contest ={\"Con\":[]}\n",
    "    for a in uls:\n",
    "        Con = a.get_text()\n",
    "        Con = Con.strip()\n",
    "        result = Con.split()\n",
    "        Contestants[\"Contestants\"].append(Con)\n",
    "    for idx in range(len(Contestants[\"Contestants\"])):\n",
    "        if len(Contest[\"Con\"]) < 25:\n",
    "            if idx == cursor:\n",
    "                Contest[\"Con\"].append(Contestants[\"Contestants\"][idx])\n",
    "                cursor += 5\n",
    "    nContesy[\"From\"].extend(Contest[\"Con\"])        \n",
    "    i += 1"
   ]
  },
  {
   "cell_type": "code",
   "execution_count": 11,
   "id": "a7e26ed6",
   "metadata": {},
   "outputs": [],
   "source": [
    "i = 6\n",
    "Contesy ={\"From\":[]}\n",
    "while i <= 7:\n",
    "    url = \"https://bachelor-nation.fandom.com/wiki/The_Bachelor_(Season_\"+str(i)+\")\"\n",
    "    response =requests.get(url)\n",
    "    html_con = response.text\n",
    "    soup = BeautifulSoup(html_con, 'html.parser')\n",
    "    uls = soup.find_all(\"td\",{\"\":\"\"})\n",
    "    cursor = 4\n",
    "    Contestants ={\"Contestants\":[]}\n",
    "    Contest ={\"Con\":[]}\n",
    "    for a in uls:\n",
    "        Con = a.get_text()\n",
    "        Con = Con.strip()\n",
    "        result = Con.split()\n",
    "        Contestants[\"Contestants\"].append(Con)\n",
    "    for idx in range(len(Contestants[\"Contestants\"])):\n",
    "        if len(Contest[\"Con\"]) < 25:\n",
    "            if idx == cursor:\n",
    "                Contest[\"Con\"].append(Contestants[\"Contestants\"][idx])\n",
    "                cursor += 5\n",
    "    Contesy[\"From\"].extend(Contest[\"Con\"])        \n",
    "    i += 1"
   ]
  },
  {
   "cell_type": "code",
   "execution_count": 12,
   "id": "f4d9298d",
   "metadata": {},
   "outputs": [],
   "source": [
    "i = 3\n",
    "nConteser ={\"Job\":[]}\n",
    "while i <= 4:\n",
    "    url = \"https://bachelor-nation.fandom.com/wiki/The_Bachelor_(Season_\"+str(i)+\")\"\n",
    "    response =requests.get(url)\n",
    "    html_con = response.text\n",
    "    soup = BeautifulSoup(html_con, 'html.parser')\n",
    "    uls = soup.find_all(\"td\",{\"\":\"\"})\n",
    "    cursor = 5\n",
    "    Contestants ={\"Contestants\":[]}\n",
    "    Contest ={\"Con\":[]}\n",
    "    for a in uls:\n",
    "        Con = a.get_text()\n",
    "        Con = Con.strip()\n",
    "        result = Con.split()\n",
    "        Contestants[\"Contestants\"].append(Con)\n",
    "    for idx in range(len(Contestants[\"Contestants\"])):\n",
    "        if len(Contest[\"Con\"]) < 25:\n",
    "            if idx == cursor:\n",
    "                Contest[\"Con\"].append(Contestants[\"Contestants\"][idx])\n",
    "                cursor += 5\n",
    "    nConteser[\"Job\"].extend(Contest[\"Con\"])        \n",
    "    i += 1"
   ]
  },
  {
   "cell_type": "code",
   "execution_count": 13,
   "id": "586c3c5d",
   "metadata": {},
   "outputs": [],
   "source": [
    "i = 6\n",
    "Conteser ={\"Job\":[]}\n",
    "while i <= 7:\n",
    "    url = \"https://bachelor-nation.fandom.com/wiki/The_Bachelor_(Season_\"+str(i)+\")\"\n",
    "    response =requests.get(url)\n",
    "    html_con = response.text\n",
    "    soup = BeautifulSoup(html_con, 'html.parser')\n",
    "    uls = soup.find_all(\"td\",{\"\":\"\"})\n",
    "    cursor = 5\n",
    "    Contestants ={\"Contestants\":[]}\n",
    "    Contest ={\"Con\":[]}\n",
    "    for a in uls:\n",
    "        Con = a.get_text()\n",
    "        Con = Con.strip()\n",
    "        result = Con.split()\n",
    "        Contestants[\"Contestants\"].append(Con)\n",
    "    for idx in range(len(Contestants[\"Contestants\"])):\n",
    "        if len(Contest[\"Con\"]) < 25:\n",
    "            if idx == cursor:\n",
    "                Contest[\"Con\"].append(Contestants[\"Contestants\"][idx])\n",
    "                cursor += 5\n",
    "    Conteser[\"Job\"].extend(Contest[\"Con\"])        \n",
    "    i += 1"
   ]
  },
  {
   "cell_type": "code",
   "execution_count": 14,
   "id": "c3fb4481",
   "metadata": {},
   "outputs": [],
   "source": [
    "i = 3\n",
    "nContesery ={\"Elim Week\":[]}\n",
    "while i <= 4:\n",
    "    url = \"https://bachelor-nation.fandom.com/wiki/The_Bachelor_(Season_\"+str(i)+\")\"\n",
    "    response =requests.get(url)\n",
    "    html_con = response.text\n",
    "    soup = BeautifulSoup(html_con, 'html.parser')\n",
    "    uls = soup.find_all(\"td\",{\"\":\"\"})\n",
    "    cursor = 6\n",
    "    Contestants ={\"Contestants\":[]}\n",
    "    Contest ={\"Con\":[]}\n",
    "    for a in uls:\n",
    "        Con = a.get_text()\n",
    "        Con = Con.strip()\n",
    "        result = Con.split()\n",
    "        Contestants[\"Contestants\"].append(Con)\n",
    "    for idx in range(len(Contestants[\"Contestants\"])):\n",
    "        if len(Contest[\"Con\"]) < 25:\n",
    "            if idx == cursor:\n",
    "                Contest[\"Con\"].append(Contestants[\"Contestants\"][idx])\n",
    "                cursor += 5\n",
    "    nContesery[\"Elim Week\"].extend(Contest[\"Con\"])        \n",
    "    i += 1"
   ]
  },
  {
   "cell_type": "code",
   "execution_count": 15,
   "id": "3a426f34",
   "metadata": {},
   "outputs": [],
   "source": [
    "i = 6\n",
    "Contesery ={\"Elim Week\":[]}\n",
    "while i <= 7:\n",
    "    url = \"https://bachelor-nation.fandom.com/wiki/The_Bachelor_(Season_\"+str(i)+\")\"\n",
    "    response =requests.get(url)\n",
    "    html_con = response.text\n",
    "    soup = BeautifulSoup(html_con, 'html.parser')\n",
    "    uls = soup.find_all(\"td\",{\"\":\"\"})\n",
    "    cursor = 6\n",
    "    Contestants ={\"Contestants\":[]}\n",
    "    Contest ={\"Con\":[]}\n",
    "    for a in uls:\n",
    "        Con = a.get_text()\n",
    "        Con = Con.strip()\n",
    "        result = Con.split()\n",
    "        Contestants[\"Contestants\"].append(Con)\n",
    "    for idx in range(len(Contestants[\"Contestants\"])):\n",
    "        if len(Contest[\"Con\"]) < 25:\n",
    "            if idx == cursor:\n",
    "                Contest[\"Con\"].append(Contestants[\"Contestants\"][idx])\n",
    "                cursor += 5\n",
    "    Contesery[\"Elim Week\"].extend(Contest[\"Con\"])        \n",
    "    i += 1"
   ]
  },
  {
   "cell_type": "code",
   "execution_count": 16,
   "id": "f6875937",
   "metadata": {},
   "outputs": [],
   "source": [
    "df1 = pd.DataFrame(Cont)\n",
    "df2 = pd.DataFrame(Contes)\n",
    "df3 = pd.DataFrame(Contesy)\n",
    "df4 = pd.DataFrame(Conteser)\n",
    "df5 = pd.DataFrame(Contesery)"
   ]
  },
  {
   "cell_type": "code",
   "execution_count": 17,
   "id": "0d544536",
   "metadata": {},
   "outputs": [],
   "source": [
    "df6 = pd.DataFrame(nCont)\n",
    "df7 = pd.DataFrame(nContes)\n",
    "df8 = pd.DataFrame(nContesy)\n",
    "df9 = pd.DataFrame(nConteser)\n",
    "df10 = pd.DataFrame(nContesery)"
   ]
  },
  {
   "cell_type": "code",
   "execution_count": 18,
   "id": "4bfba4fd",
   "metadata": {},
   "outputs": [],
   "source": [
    "Tdf = df1\n",
    "Tdf = pd.merge(Tdf, df2, left_index=True, right_index=True)\n",
    "Tdf = pd.merge(Tdf, df3, left_index=True, right_index=True)\n",
    "Tdf = pd.merge(Tdf, df4, left_index=True, right_index=True)\n",
    "Tdf = pd.merge(Tdf, df5, left_index=True, right_index=True)"
   ]
  },
  {
   "cell_type": "code",
   "execution_count": 19,
   "id": "34425865",
   "metadata": {},
   "outputs": [],
   "source": [
    "Sdf = df6\n",
    "Sdf = pd.merge(Sdf, df7, left_index=True, right_index=True)\n",
    "Sdf = pd.merge(Sdf, df8, left_index=True, right_index=True)\n",
    "Sdf = pd.merge(Sdf, df9, left_index=True, right_index=True)\n",
    "Sdf = pd.merge(Sdf, df10, left_index=True, right_index=True)"
   ]
  },
  {
   "cell_type": "code",
   "execution_count": 20,
   "id": "20f7efef",
   "metadata": {},
   "outputs": [],
   "source": [
    "Tdf['Season'] = [6,6,6,6,6,6,6,6,6,6,6,6,6,6,6,6,6,6,6,6,6,6,6,6,6,7,7,7,7,7,7,7,7,7,7,7,7,7,7,7,7,7,7,7,7,7,7,7,7,7]"
   ]
  },
  {
   "cell_type": "code",
   "execution_count": 21,
   "id": "445ab6e1",
   "metadata": {},
   "outputs": [],
   "source": [
    "Sdf['Season'] = [3,3,3,3,3,3,3,3,3,3,3,3,3,3,3,3,3,3,3,3,3,3,3,3,3,4,4,4,4,4,4,4,4,4,4,4,4,4,4,4,4,4,4,4,4,4,4,4,4,4]"
   ]
  },
  {
   "cell_type": "code",
   "execution_count": 22,
   "id": "2846a8a4",
   "metadata": {},
   "outputs": [
    {
     "data": {
      "text/html": [
       "<div>\n",
       "<style scoped>\n",
       "    .dataframe tbody tr th:only-of-type {\n",
       "        vertical-align: middle;\n",
       "    }\n",
       "\n",
       "    .dataframe tbody tr th {\n",
       "        vertical-align: top;\n",
       "    }\n",
       "\n",
       "    .dataframe thead th {\n",
       "        text-align: right;\n",
       "    }\n",
       "</style>\n",
       "<table border=\"1\" class=\"dataframe\">\n",
       "  <thead>\n",
       "    <tr style=\"text-align: right;\">\n",
       "      <th></th>\n",
       "      <th>Name</th>\n",
       "      <th>Age</th>\n",
       "      <th>From</th>\n",
       "      <th>Job</th>\n",
       "      <th>Elim Week</th>\n",
       "      <th>Season</th>\n",
       "    </tr>\n",
       "  </thead>\n",
       "  <tbody>\n",
       "    <tr>\n",
       "      <th>0</th>\n",
       "      <td>Mary Delgado</td>\n",
       "      <td>36</td>\n",
       "      <td>Tampa, Florida</td>\n",
       "      <td>Sales Manager</td>\n",
       "      <td>Winner</td>\n",
       "      <td>6</td>\n",
       "    </tr>\n",
       "    <tr>\n",
       "      <th>1</th>\n",
       "      <td>Tanya Michel</td>\n",
       "      <td>31</td>\n",
       "      <td>Plano, Texas</td>\n",
       "      <td>Special Education Teacher</td>\n",
       "      <td>Runner-up</td>\n",
       "      <td>6</td>\n",
       "    </tr>\n",
       "    <tr>\n",
       "      <th>2</th>\n",
       "      <td>Cynthia</td>\n",
       "      <td>37</td>\n",
       "      <td>Hermosa Beach, California</td>\n",
       "      <td>Charity Foundations Director</td>\n",
       "      <td>Week 7</td>\n",
       "      <td>6</td>\n",
       "    </tr>\n",
       "    <tr>\n",
       "      <th>3</th>\n",
       "      <td>Cheresse</td>\n",
       "      <td>31</td>\n",
       "      <td>St. Louis, Missouri</td>\n",
       "      <td>Advertising Director</td>\n",
       "      <td>Week 6</td>\n",
       "      <td>6</td>\n",
       "    </tr>\n",
       "    <tr>\n",
       "      <th>4</th>\n",
       "      <td>Andrea</td>\n",
       "      <td>33</td>\n",
       "      <td>Denver, Colorado</td>\n",
       "      <td>Dental Hygienist</td>\n",
       "      <td>Week 5</td>\n",
       "      <td>6</td>\n",
       "    </tr>\n",
       "  </tbody>\n",
       "</table>\n",
       "</div>"
      ],
      "text/plain": [
       "           Name Age                       From                           Job  \\\n",
       "0  Mary Delgado  36             Tampa, Florida                 Sales Manager   \n",
       "1  Tanya Michel  31               Plano, Texas     Special Education Teacher   \n",
       "2       Cynthia  37  Hermosa Beach, California  Charity Foundations Director   \n",
       "3      Cheresse  31        St. Louis, Missouri          Advertising Director   \n",
       "4        Andrea  33           Denver, Colorado              Dental Hygienist   \n",
       "\n",
       "   Elim Week  Season  \n",
       "0     Winner       6  \n",
       "1  Runner-up       6  \n",
       "2     Week 7       6  \n",
       "3     Week 6       6  \n",
       "4     Week 5       6  "
      ]
     },
     "execution_count": 22,
     "metadata": {},
     "output_type": "execute_result"
    }
   ],
   "source": [
    "Tdf.head()"
   ]
  },
  {
   "cell_type": "code",
   "execution_count": 23,
   "id": "21d18c7a",
   "metadata": {},
   "outputs": [
    {
     "data": {
      "text/html": [
       "<div>\n",
       "<style scoped>\n",
       "    .dataframe tbody tr th:only-of-type {\n",
       "        vertical-align: middle;\n",
       "    }\n",
       "\n",
       "    .dataframe tbody tr th {\n",
       "        vertical-align: top;\n",
       "    }\n",
       "\n",
       "    .dataframe thead th {\n",
       "        text-align: right;\n",
       "    }\n",
       "</style>\n",
       "<table border=\"1\" class=\"dataframe\">\n",
       "  <thead>\n",
       "    <tr style=\"text-align: right;\">\n",
       "      <th></th>\n",
       "      <th>Name</th>\n",
       "      <th>Age</th>\n",
       "      <th>Occupation</th>\n",
       "      <th>Hometown</th>\n",
       "      <th>ElimWeek</th>\n",
       "      <th>Season</th>\n",
       "    </tr>\n",
       "  </thead>\n",
       "  <tbody>\n",
       "    <tr>\n",
       "      <th>415</th>\n",
       "      <td>Olivia</td>\n",
       "      <td>25.0</td>\n",
       "      <td>Apparel Sales Representative</td>\n",
       "      <td>Anchorage, AK</td>\n",
       "      <td>1.0</td>\n",
       "      <td>21</td>\n",
       "    </tr>\n",
       "    <tr>\n",
       "      <th>418</th>\n",
       "      <td>Sarah</td>\n",
       "      <td>26.0</td>\n",
       "      <td>Grade School Teacher</td>\n",
       "      <td>Newport Beach, CA</td>\n",
       "      <td>4.0</td>\n",
       "      <td>21</td>\n",
       "    </tr>\n",
       "    <tr>\n",
       "      <th>419</th>\n",
       "      <td>Susannah</td>\n",
       "      <td>26.0</td>\n",
       "      <td>Account Manager</td>\n",
       "      <td>San Diego, CA</td>\n",
       "      <td>1.0</td>\n",
       "      <td>21</td>\n",
       "    </tr>\n",
       "    <tr>\n",
       "      <th>420</th>\n",
       "      <td>Taylor</td>\n",
       "      <td>23.0</td>\n",
       "      <td>Mental Health Counselor</td>\n",
       "      <td>Seattle, WA</td>\n",
       "      <td>5.0</td>\n",
       "      <td>21</td>\n",
       "    </tr>\n",
       "    <tr>\n",
       "      <th>422</th>\n",
       "      <td>Whitney</td>\n",
       "      <td>25.0</td>\n",
       "      <td>Pilates Instructor</td>\n",
       "      <td>Chanhassen, MN</td>\n",
       "      <td>6.0</td>\n",
       "      <td>21</td>\n",
       "    </tr>\n",
       "  </tbody>\n",
       "</table>\n",
       "</div>"
      ],
      "text/plain": [
       "         Name   Age                    Occupation           Hometown  \\\n",
       "415    Olivia  25.0  Apparel Sales Representative      Anchorage, AK   \n",
       "418     Sarah  26.0          Grade School Teacher  Newport Beach, CA   \n",
       "419  Susannah  26.0               Account Manager      San Diego, CA   \n",
       "420    Taylor  23.0       Mental Health Counselor        Seattle, WA   \n",
       "422   Whitney  25.0            Pilates Instructor     Chanhassen, MN   \n",
       "\n",
       "     ElimWeek  Season  \n",
       "415       1.0      21  \n",
       "418       4.0      21  \n",
       "419       1.0      21  \n",
       "420       5.0      21  \n",
       "422       6.0      21  "
      ]
     },
     "execution_count": 23,
     "metadata": {},
     "output_type": "execute_result"
    }
   ],
   "source": [
    "df.tail()"
   ]
  },
  {
   "cell_type": "code",
   "execution_count": 24,
   "id": "8d2c9891",
   "metadata": {},
   "outputs": [
    {
     "data": {
      "text/html": [
       "<div>\n",
       "<style scoped>\n",
       "    .dataframe tbody tr th:only-of-type {\n",
       "        vertical-align: middle;\n",
       "    }\n",
       "\n",
       "    .dataframe tbody tr th {\n",
       "        vertical-align: top;\n",
       "    }\n",
       "\n",
       "    .dataframe thead th {\n",
       "        text-align: right;\n",
       "    }\n",
       "</style>\n",
       "<table border=\"1\" class=\"dataframe\">\n",
       "  <thead>\n",
       "    <tr style=\"text-align: right;\">\n",
       "      <th></th>\n",
       "      <th>Name</th>\n",
       "      <th>Age</th>\n",
       "      <th>From</th>\n",
       "      <th>Job</th>\n",
       "      <th>Elim Week</th>\n",
       "      <th>Season</th>\n",
       "    </tr>\n",
       "  </thead>\n",
       "  <tbody>\n",
       "    <tr>\n",
       "      <th>0</th>\n",
       "      <td>Jennifer Schefft</td>\n",
       "      <td>25</td>\n",
       "      <td>Mentor, Ohio</td>\n",
       "      <td>Publicist</td>\n",
       "      <td>Winner</td>\n",
       "      <td>3</td>\n",
       "    </tr>\n",
       "    <tr>\n",
       "      <th>1</th>\n",
       "      <td>Kirsten Buschbacher</td>\n",
       "      <td>23</td>\n",
       "      <td>Valrico, Florida</td>\n",
       "      <td>E-Commerce Merchant</td>\n",
       "      <td>Runner-up</td>\n",
       "      <td>3</td>\n",
       "    </tr>\n",
       "    <tr>\n",
       "      <th>2</th>\n",
       "      <td>Tina Panas</td>\n",
       "      <td>22</td>\n",
       "      <td>Oconomowoc, Wisconsin</td>\n",
       "      <td>Student</td>\n",
       "      <td>Week 6</td>\n",
       "      <td>3</td>\n",
       "    </tr>\n",
       "    <tr>\n",
       "      <th>3</th>\n",
       "      <td>Cristina Costa</td>\n",
       "      <td>30</td>\n",
       "      <td>Montclair, New Jersey</td>\n",
       "      <td>Pharmaceutical sales consultant</td>\n",
       "      <td>Week 5</td>\n",
       "      <td>3</td>\n",
       "    </tr>\n",
       "    <tr>\n",
       "      <th>4</th>\n",
       "      <td>Anne-Michelle</td>\n",
       "      <td>25</td>\n",
       "      <td>Burbank, California</td>\n",
       "      <td>Bartender/actress</td>\n",
       "      <td>Week 4</td>\n",
       "      <td>3</td>\n",
       "    </tr>\n",
       "  </tbody>\n",
       "</table>\n",
       "</div>"
      ],
      "text/plain": [
       "                  Name Age                   From  \\\n",
       "0     Jennifer Schefft  25           Mentor, Ohio   \n",
       "1  Kirsten Buschbacher  23       Valrico, Florida   \n",
       "2           Tina Panas  22  Oconomowoc, Wisconsin   \n",
       "3       Cristina Costa  30  Montclair, New Jersey   \n",
       "4        Anne-Michelle  25    Burbank, California   \n",
       "\n",
       "                               Job  Elim Week  Season  \n",
       "0                        Publicist     Winner       3  \n",
       "1              E-Commerce Merchant  Runner-up       3  \n",
       "2                          Student     Week 6       3  \n",
       "3  Pharmaceutical sales consultant     Week 5       3  \n",
       "4                Bartender/actress     Week 4       3  "
      ]
     },
     "execution_count": 24,
     "metadata": {},
     "output_type": "execute_result"
    }
   ],
   "source": [
    "Sdf.head()"
   ]
  },
  {
   "cell_type": "code",
   "execution_count": 25,
   "id": "59d1101a",
   "metadata": {},
   "outputs": [],
   "source": [
    "Df = pd.concat([Sdf, Tdf], axis=0)\n",
    "Df.rename(columns={'From': 'Hometown', 'Job': 'Occupation', 'Elim Week': 'ElimWeek'}, inplace=True)"
   ]
  },
  {
   "cell_type": "code",
   "execution_count": 26,
   "id": "1972d2ae",
   "metadata": {},
   "outputs": [],
   "source": [
    "Df = pd.concat([Df, df], axis=0)"
   ]
  },
  {
   "cell_type": "code",
   "execution_count": 27,
   "id": "f21d3501",
   "metadata": {},
   "outputs": [
    {
     "name": "stdout",
     "output_type": "stream",
     "text": [
      "<class 'pandas.core.frame.DataFrame'>\n",
      "Int64Index: 505 entries, 0 to 422\n",
      "Data columns (total 6 columns):\n",
      " #   Column      Non-Null Count  Dtype \n",
      "---  ------      --------------  ----- \n",
      " 0   Name        505 non-null    object\n",
      " 1   Age         505 non-null    object\n",
      " 2   Hometown    505 non-null    object\n",
      " 3   Occupation  505 non-null    object\n",
      " 4   ElimWeek    505 non-null    object\n",
      " 5   Season      505 non-null    int64 \n",
      "dtypes: int64(1), object(5)\n",
      "memory usage: 27.6+ KB\n"
     ]
    }
   ],
   "source": [
    "Df.info()"
   ]
  },
  {
   "cell_type": "code",
   "execution_count": 28,
   "id": "4fff41c0",
   "metadata": {},
   "outputs": [
    {
     "data": {
      "text/html": [
       "<div>\n",
       "<style scoped>\n",
       "    .dataframe tbody tr th:only-of-type {\n",
       "        vertical-align: middle;\n",
       "    }\n",
       "\n",
       "    .dataframe tbody tr th {\n",
       "        vertical-align: top;\n",
       "    }\n",
       "\n",
       "    .dataframe thead th {\n",
       "        text-align: right;\n",
       "    }\n",
       "</style>\n",
       "<table border=\"1\" class=\"dataframe\">\n",
       "  <thead>\n",
       "    <tr style=\"text-align: right;\">\n",
       "      <th></th>\n",
       "      <th>Name</th>\n",
       "      <th>Age</th>\n",
       "      <th>Hometown</th>\n",
       "      <th>Occupation</th>\n",
       "      <th>ElimWeek</th>\n",
       "      <th>Season</th>\n",
       "    </tr>\n",
       "  </thead>\n",
       "  <tbody>\n",
       "    <tr>\n",
       "      <th>0</th>\n",
       "      <td>Jennifer Schefft</td>\n",
       "      <td>25</td>\n",
       "      <td>Mentor, Ohio</td>\n",
       "      <td>Publicist</td>\n",
       "      <td>Winner</td>\n",
       "      <td>3</td>\n",
       "    </tr>\n",
       "    <tr>\n",
       "      <th>1</th>\n",
       "      <td>Kirsten Buschbacher</td>\n",
       "      <td>23</td>\n",
       "      <td>Valrico, Florida</td>\n",
       "      <td>E-Commerce Merchant</td>\n",
       "      <td>Runner-up</td>\n",
       "      <td>3</td>\n",
       "    </tr>\n",
       "    <tr>\n",
       "      <th>2</th>\n",
       "      <td>Tina Panas</td>\n",
       "      <td>22</td>\n",
       "      <td>Oconomowoc, Wisconsin</td>\n",
       "      <td>Student</td>\n",
       "      <td>Week 6</td>\n",
       "      <td>3</td>\n",
       "    </tr>\n",
       "    <tr>\n",
       "      <th>3</th>\n",
       "      <td>Cristina Costa</td>\n",
       "      <td>30</td>\n",
       "      <td>Montclair, New Jersey</td>\n",
       "      <td>Pharmaceutical sales consultant</td>\n",
       "      <td>Week 5</td>\n",
       "      <td>3</td>\n",
       "    </tr>\n",
       "    <tr>\n",
       "      <th>4</th>\n",
       "      <td>Anne-Michelle</td>\n",
       "      <td>25</td>\n",
       "      <td>Burbank, California</td>\n",
       "      <td>Bartender/actress</td>\n",
       "      <td>Week 4</td>\n",
       "      <td>3</td>\n",
       "    </tr>\n",
       "  </tbody>\n",
       "</table>\n",
       "</div>"
      ],
      "text/plain": [
       "                  Name Age               Hometown  \\\n",
       "0     Jennifer Schefft  25           Mentor, Ohio   \n",
       "1  Kirsten Buschbacher  23       Valrico, Florida   \n",
       "2           Tina Panas  22  Oconomowoc, Wisconsin   \n",
       "3       Cristina Costa  30  Montclair, New Jersey   \n",
       "4        Anne-Michelle  25    Burbank, California   \n",
       "\n",
       "                        Occupation   ElimWeek  Season  \n",
       "0                        Publicist     Winner       3  \n",
       "1              E-Commerce Merchant  Runner-up       3  \n",
       "2                          Student     Week 6       3  \n",
       "3  Pharmaceutical sales consultant     Week 5       3  \n",
       "4                Bartender/actress     Week 4       3  "
      ]
     },
     "execution_count": 28,
     "metadata": {},
     "output_type": "execute_result"
    }
   ],
   "source": [
    "Df.head()"
   ]
  },
  {
   "cell_type": "code",
   "execution_count": 29,
   "id": "32d0116e",
   "metadata": {},
   "outputs": [],
   "source": [
    "Df['ElimWeek'] = Df['ElimWeek'].replace('Winner', 0)\n",
    "Df['ElimWeek'] = Df['ElimWeek'].replace('Runner-up', 11)"
   ]
  },
  {
   "cell_type": "markdown",
   "id": "880ff05f",
   "metadata": {},
   "source": [
    "### 2. Training Your Model\n",
    "In the cell seen below, write the code you need to train a linear regression model. Make sure you display the equation of the plane that best fits your chosen data at the end of your program. \n",
    "\n",
    "*Note, level 5 work trains a model using only the standard Python library and Pandas. A level 5 model is trained with at least two features, where one of the features begins as a categorical value (e.g. occupation, hometown, etc.). A level 4 uses external libraries like scikit or numpy.*"
   ]
  },
  {
   "cell_type": "code",
   "execution_count": 30,
   "id": "a12e7f3b",
   "metadata": {},
   "outputs": [],
   "source": [
    "features = df[[\"Age\"]]"
   ]
  },
  {
   "cell_type": "code",
   "execution_count": 31,
   "id": "7fc98d81",
   "metadata": {},
   "outputs": [],
   "source": [
    "output = df[\"ElimWeek\"]"
   ]
  },
  {
   "cell_type": "code",
   "execution_count": 32,
   "id": "57235669",
   "metadata": {},
   "outputs": [],
   "source": [
    "x_train, x_test, y_train, y_test = train_test_split(\n",
    "    features, output, test_size=0.30,random_state = 42)"
   ]
  },
  {
   "cell_type": "code",
   "execution_count": 33,
   "id": "ad8ad8e7",
   "metadata": {},
   "outputs": [],
   "source": [
    "model =LinearRegression()"
   ]
  },
  {
   "cell_type": "code",
   "execution_count": 34,
   "id": "476d709f",
   "metadata": {},
   "outputs": [
    {
     "data": {
      "text/plain": [
       "LinearRegression()"
      ]
     },
     "execution_count": 34,
     "metadata": {},
     "output_type": "execute_result"
    }
   ],
   "source": [
    "model.fit(x_train, y_train)"
   ]
  },
  {
   "cell_type": "code",
   "execution_count": 35,
   "id": "28cc7867",
   "metadata": {},
   "outputs": [
    {
     "name": "stdout",
     "output_type": "stream",
     "text": [
      "y =  -0.09523341039893751 x1=  5.505681538688574\n"
     ]
    }
   ],
   "source": [
    "m1 = model.coef_[0]\n",
    "b = model.intercept_\n",
    "print(\"y = \", m1, \"x1= \", b)"
   ]
  },
  {
   "cell_type": "markdown",
   "id": "cfb2b903",
   "metadata": {},
   "source": [
    "### 3. Testing Your Model\n",
    "In the cell seen below, write the code you need to test your linear regression model. \n",
    "\n",
    "*Note, a model is considered a level 5 if it achieves at least 60% prediction accuracy or achieves an RMSE of 2 weeks or less.*"
   ]
  },
  {
   "cell_type": "code",
   "execution_count": 36,
   "id": "24f8b990",
   "metadata": {},
   "outputs": [],
   "source": [
    "predictions = model.predict(x_test)\n",
    "predictions = [int(x) for x in predictions]"
   ]
  },
  {
   "cell_type": "code",
   "execution_count": 37,
   "id": "5f19a821",
   "metadata": {},
   "outputs": [],
   "source": [
    "y_test = list(y_test)"
   ]
  },
  {
   "cell_type": "code",
   "execution_count": 40,
   "id": "03cace1b",
   "metadata": {},
   "outputs": [
    {
     "name": "stdout",
     "output_type": "stream",
     "text": [
      "0.1721311475409836\n"
     ]
    }
   ],
   "source": [
    "count = 0\n",
    "for i in range(len(predictions)):\n",
    "    if predictions[i] == y_test[i]:\n",
    "        count = count + 1\n",
    "        print(Df.loc[count])\n",
    "print(count/len(predictions))"
   ]
  },
  {
   "cell_type": "markdown",
   "id": "343eb3f7",
   "metadata": {},
   "source": [
    "### 4. Final Answer\n",
    "\n",
    "In the first cell seen below, state the name of your predicted winner. \n",
    "In the second cell seen below, justify your prediction using an evaluation technique like RMSE or percent accuracy."
   ]
  },
  {
   "cell_type": "markdown",
   "id": "25533722",
   "metadata": {},
   "source": [
    "#### State the name of your predicted winner here."
   ]
  },
  {
   "cell_type": "markdown",
   "id": "e29adde2",
   "metadata": {},
   "source": [
    "#### Justify your prediction here."
   ]
  }
 ],
 "metadata": {
  "kernelspec": {
   "display_name": "Python 3 (ipykernel)",
   "language": "python",
   "name": "python3"
  },
  "language_info": {
   "codemirror_mode": {
    "name": "ipython",
    "version": 3
   },
   "file_extension": ".py",
   "mimetype": "text/x-python",
   "name": "python",
   "nbconvert_exporter": "python",
   "pygments_lexer": "ipython3",
   "version": "3.9.13"
  }
 },
 "nbformat": 4,
 "nbformat_minor": 5
}
