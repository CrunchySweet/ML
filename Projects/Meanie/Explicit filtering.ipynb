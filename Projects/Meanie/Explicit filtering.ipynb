{
 "cells": [
  {
   "cell_type": "code",
   "execution_count": 2,
   "id": "5f422cfe",
   "metadata": {},
   "outputs": [],
   "source": [
    "import pandas as pd\n",
    "import numpy as np\n",
    "import re"
   ]
  },
  {
   "cell_type": "code",
   "execution_count": 3,
   "id": "cfd9e377",
   "metadata": {},
   "outputs": [],
   "source": [
    "df = pd.read_csv(\"diffusion_db_unaltered.csv\")"
   ]
  },
  {
   "cell_type": "code",
   "execution_count": 4,
   "id": "7978822a",
   "metadata": {},
   "outputs": [
    {
     "data": {
      "text/html": [
       "<div>\n",
       "<style scoped>\n",
       "    .dataframe tbody tr th:only-of-type {\n",
       "        vertical-align: middle;\n",
       "    }\n",
       "\n",
       "    .dataframe tbody tr th {\n",
       "        vertical-align: top;\n",
       "    }\n",
       "\n",
       "    .dataframe thead th {\n",
       "        text-align: right;\n",
       "    }\n",
       "</style>\n",
       "<table border=\"1\" class=\"dataframe\">\n",
       "  <thead>\n",
       "    <tr style=\"text-align: right;\">\n",
       "      <th></th>\n",
       "      <th>prompt</th>\n",
       "      <th>image_nsfw</th>\n",
       "      <th>prompt_nsfw</th>\n",
       "    </tr>\n",
       "  </thead>\n",
       "  <tbody>\n",
       "    <tr>\n",
       "      <th>0</th>\n",
       "      <td>a portrait of a female robot made from code, v...</td>\n",
       "      <td>0.554853</td>\n",
       "      <td>0.001621</td>\n",
       "    </tr>\n",
       "    <tr>\n",
       "      <th>1</th>\n",
       "      <td>a portrait of a female robot made from a cloud...</td>\n",
       "      <td>0.153645</td>\n",
       "      <td>0.000707</td>\n",
       "    </tr>\n",
       "    <tr>\n",
       "      <th>2</th>\n",
       "      <td>only memories remain, trending on artstation</td>\n",
       "      <td>0.062496</td>\n",
       "      <td>0.000425</td>\n",
       "    </tr>\n",
       "    <tr>\n",
       "      <th>3</th>\n",
       "      <td>dream swimming pool with nobody</td>\n",
       "      <td>0.030799</td>\n",
       "      <td>0.003586</td>\n",
       "    </tr>\n",
       "    <tr>\n",
       "      <th>4</th>\n",
       "      <td>a dog doing weights. epic oil painting.</td>\n",
       "      <td>0.181035</td>\n",
       "      <td>0.030822</td>\n",
       "    </tr>\n",
       "  </tbody>\n",
       "</table>\n",
       "</div>"
      ],
      "text/plain": [
       "                                              prompt  image_nsfw  prompt_nsfw\n",
       "0  a portrait of a female robot made from code, v...    0.554853     0.001621\n",
       "1  a portrait of a female robot made from a cloud...    0.153645     0.000707\n",
       "2      only memories remain, trending on artstation     0.062496     0.000425\n",
       "3                   dream swimming pool with nobody     0.030799     0.003586\n",
       "4           a dog doing weights. epic oil painting.     0.181035     0.030822"
      ]
     },
     "execution_count": 4,
     "metadata": {},
     "output_type": "execute_result"
    }
   ],
   "source": [
    "df.head()"
   ]
  },
  {
   "cell_type": "code",
   "execution_count": 10,
   "id": "c6765490",
   "metadata": {},
   "outputs": [],
   "source": [
    "explicit_keywords = [ \n",
    "    \"ass\", \"bitch\", \"cock\", \"damn\",\n",
    "    \"dick\", \"fuck\", \"nude\",\n",
    "    \"pussy\", \"vagina\", \"nsfw\", \n",
    "    \"slut\", \"tit\", \"whore\",\"cum\", \n",
    "    \"dildo\", \"knocker\",\n",
    "    \"boob\", \"bollock\", \"schmuck\", \"choad\", \"dumbfuck\", \n",
    "    \"jerk\", \"numbnuts\", \"seductive\",\n",
    "    \"fuckboy\", \"butthole\", \n",
    "    \"fanny\", \"munt\", \"butt\", \"porn\"\n",
    "]"
   ]
  },
  {
   "cell_type": "code",
   "execution_count": 11,
   "id": "569436ed",
   "metadata": {},
   "outputs": [],
   "source": [
    "pattern = r\"\\b(\" + \"|\".join([f\"{word}\" for word in explicit_keywords]) + r\")\\b\"\n",
    "regex = re.compile(pattern, flags=re.IGNORECASE)"
   ]
  },
  {
   "cell_type": "code",
   "execution_count": 12,
   "id": "31220a7b",
   "metadata": {},
   "outputs": [
    {
     "name": "stderr",
     "output_type": "stream",
     "text": [
      "C:\\Users\\mmooreii\\AppData\\Local\\Temp\\ipykernel_19744\\1945727955.py:11: UserWarning: This pattern is interpreted as a regular expression, and has match groups. To actually get the groups, use str.extract.\n",
      "  chunk.loc[:, 'contains_keywords'] = chunk['prompt'].str.contains(pattern, case=False, regex=True, na=False)\n",
      "C:\\Users\\mmooreii\\AppData\\Local\\Temp\\ipykernel_19744\\1945727955.py:11: SettingWithCopyWarning: \n",
      "A value is trying to be set on a copy of a slice from a DataFrame.\n",
      "Try using .loc[row_indexer,col_indexer] = value instead\n",
      "\n",
      "See the caveats in the documentation: https://pandas.pydata.org/pandas-docs/stable/user_guide/indexing.html#returning-a-view-versus-a-copy\n",
      "  chunk.loc[:, 'contains_keywords'] = chunk['prompt'].str.contains(pattern, case=False, regex=True, na=False)\n"
     ]
    }
   ],
   "source": [
    "sampled_data = pd.read_csv('diffusion_db_unaltered.csv', nrows=2000000)\n",
    "random_sample = sampled_data.sample(n=2000000, random_state=1)  # Randomly sample 200,000 rows\n",
    "\n",
    "chunk_size = 2000000  \n",
    "output_list = []\n",
    "\n",
    "for start in range(0, len(random_sample), chunk_size):\n",
    "    chunk = random_sample.iloc[start:start + chunk_size]\n",
    "    \n",
    "    # Use .loc to set the 'contains_keywords' column safely\n",
    "    chunk.loc[:, 'contains_keywords'] = chunk['prompt'].str.contains(pattern, case=False, regex=True, na=False)\n",
    "    \n",
    "    # Filter rows that contain the keywords\n",
    "    keyword_rows = chunk[chunk['contains_keywords']]\n",
    "    output_list.append(keyword_rows)\n",
    "    \n",
    "    # Memory cleanup (optional)\n",
    "    del chunk\n",
    "    del keyword_rows\n",
    "\n",
    "if output_list:\n",
    "    final_df = pd.concat(output_list, ignore_index=True)\n",
    "else:\n",
    "    print(\"No prompts containing the keywords found.\")"
   ]
  },
  {
   "cell_type": "code",
   "execution_count": 13,
   "id": "6df5cdd9",
   "metadata": {},
   "outputs": [
    {
     "name": "stdout",
     "output_type": "stream",
     "text": [
      "<class 'pandas.core.frame.DataFrame'>\n",
      "RangeIndex: 6169 entries, 0 to 6168\n",
      "Data columns (total 4 columns):\n",
      " #   Column             Non-Null Count  Dtype  \n",
      "---  ------             --------------  -----  \n",
      " 0   prompt             6169 non-null   object \n",
      " 1   image_nsfw         6169 non-null   float64\n",
      " 2   prompt_nsfw        6169 non-null   float64\n",
      " 3   contains_keywords  6169 non-null   bool   \n",
      "dtypes: bool(1), float64(2), object(1)\n",
      "memory usage: 150.7+ KB\n"
     ]
    }
   ],
   "source": [
    "final_df.info()"
   ]
  },
  {
   "cell_type": "code",
   "execution_count": 14,
   "id": "184bb670",
   "metadata": {},
   "outputs": [
    {
     "name": "stdout",
     "output_type": "stream",
     "text": [
      "                                                 prompt  contains_keywords\n",
      "0     close up portrait on the enchanting femenine w...               True\n",
      "1     majestic gracious regal seductive deity aphrod...               True\n",
      "2     scarlett johanson doing pole dancing, purple l...               True\n",
      "3     glamorous and sexy nurse in transparent blouse...               True\n",
      "4     grungy woman, rainbow hair, soft eyes and narr...               True\n",
      "...                                                 ...                ...\n",
      "6164  lee jin - eun as starfire emerging from pink w...               True\n",
      "6165  glamorous and sexy japanese lawer in chemisier...               True\n",
      "6166  pop surrealism, lowbrow art, realistic seducti...               True\n",
      "6167  jellyfish as xenomorph queen, psycho stupid fu...               True\n",
      "6168  portrait of a red haired woman, in 7 0 s style...               True\n",
      "\n",
      "[6169 rows x 2 columns]\n"
     ]
    }
   ],
   "source": [
    "tets = final_df\n",
    "print(tets[[\"prompt\", \"contains_keywords\"]])"
   ]
  },
  {
   "cell_type": "code",
   "execution_count": 18,
   "id": "a2dd7c68",
   "metadata": {},
   "outputs": [
    {
     "data": {
      "text/plain": [
       "'masterpiece beautiful seductive flowing curves preraphaelite face portrait amongst leaves, extreme close up shot, straight bangs, thick set features, yellow ochre ornate medieval dress, horns, amongst foliage mushroom forest arch branching framed with plants, gold gilded circle halo, kilian eng and frederic leighton and rosetti, 4 k '"
      ]
     },
     "execution_count": 18,
     "metadata": {},
     "output_type": "execute_result"
    }
   ],
   "source": [
    "final_df['prompt'][3213]"
   ]
  },
  {
   "cell_type": "code",
   "execution_count": null,
   "id": "54249527",
   "metadata": {},
   "outputs": [],
   "source": []
  }
 ],
 "metadata": {
  "kernelspec": {
   "display_name": "Python 3 (ipykernel)",
   "language": "python",
   "name": "python3"
  },
  "language_info": {
   "codemirror_mode": {
    "name": "ipython",
    "version": 3
   },
   "file_extension": ".py",
   "mimetype": "text/x-python",
   "name": "python",
   "nbconvert_exporter": "python",
   "pygments_lexer": "ipython3",
   "version": "3.9.13"
  }
 },
 "nbformat": 4,
 "nbformat_minor": 5
}
