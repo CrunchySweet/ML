{
 "cells": [
  {
   "cell_type": "markdown",
   "id": "1b940825",
   "metadata": {},
   "source": [
    "# RFP: Betting on the Bachelor\n",
    "\n",
    "## Project Overview\n",
    "You are invited to submit a proposal that answers the following question:\n",
    "\n",
    "### Who will win season 29 of the Bachelor?\n",
    "\n",
    "*All proposals must be submitted by **1/15/25 at 11:59 PM**.*"
   ]
  },
  {
   "cell_type": "markdown",
   "id": "968a85f0",
   "metadata": {},
   "source": [
    "## Required Proposal Components\n",
    "\n",
    "### 1. Data Description\n",
    "In the code cell below, read in the data you plan on using to train and test your model. Call `info()` once you have read the data into a dataframe. Consider using some or all of the following sources:\n",
    "- [Scrape Fandom Wikis](https://bachelor-nation.fandom.com/wiki/The_Bachelor) or [the official Bachelor website]('https://bachelornation.com/shows/the-bachelor/')\n",
    "- [Ask ChatGPT to genereate it](https://chatgpt.com/)\n",
    "- [Read in csv files like this](https://www.kaggle.com/datasets/brianbgonz/the-bachelor-contestants?select=contestants.csv)\n",
    "\n",
    "*Note, a level 5 dataset contains at least 1000 rows of non-null data. A level 4 contains at least 500 rows of non-null data.*"
   ]
  },
  {
   "cell_type": "code",
   "execution_count": 85,
   "id": "5ae40f0d",
   "metadata": {},
   "outputs": [],
   "source": [
    "import pandas as pd\n",
    "import seaborn as sns\n",
    "import numpy as np\n",
    "import requests\n",
    "from bs4 import BeautifulSoup"
   ]
  },
  {
   "cell_type": "code",
   "execution_count": 137,
   "id": "24a9b177",
   "metadata": {},
   "outputs": [],
   "source": [
    "i = 1\n",
    "Cont ={\"Name\":[]}\n",
    "while i <= 7:\n",
    "    url = \"https://bachelor-nation.fandom.com/wiki/The_Bachelor_(Season_\"+str(i)+\")\"\n",
    "    response =requests.get(url)\n",
    "    html_con = response.text\n",
    "    soup = BeautifulSoup(html_con, 'html.parser')\n",
    "    uls = soup.find_all(\"td\",{\"\":\"\"})\n",
    "    cursor = 2\n",
    "    Contestants ={\"Contestants\":[]}\n",
    "    Contest ={\"Con\":[]}\n",
    "    for a in uls:\n",
    "        Con = a.get_text()\n",
    "        Con = Con.strip()\n",
    "        result = Con.split()\n",
    "        Contestants[\"Contestants\"].append(Con)\n",
    "    for idx in range(len(Contestants[\"Contestants\"])):\n",
    "        if len(Contest[\"Con\"]) < 25:\n",
    "            if idx == cursor:\n",
    "                Contest[\"Con\"].append(Contestants[\"Contestants\"][idx])\n",
    "                cursor += 5\n",
    "    Cont[\"Name\"].extend(Contest[\"Con\"])        \n",
    "    i += 1"
   ]
  },
  {
   "cell_type": "code",
   "execution_count": 144,
   "id": "714f1c33",
   "metadata": {},
   "outputs": [],
   "source": [
    "i = 1\n",
    "Contes ={\"Age\":[]}\n",
    "while i <= 7:\n",
    "    url = \"https://bachelor-nation.fandom.com/wiki/The_Bachelor_(Season_\"+str(i)+\")\"\n",
    "    response =requests.get(url)\n",
    "    html_con = response.text\n",
    "    soup = BeautifulSoup(html_con, 'html.parser')\n",
    "    uls = soup.find_all(\"td\",{\"\":\"\"})\n",
    "    cursor = 3\n",
    "    Contestants ={\"Contestants\":[]}\n",
    "    Contest ={\"Con\":[]}\n",
    "    for a in uls:\n",
    "        Con = a.get_text()\n",
    "        Con = Con.strip()\n",
    "        result = Con.split()\n",
    "        Contestants[\"Contestants\"].append(Con)\n",
    "    for idx in range(len(Contestants[\"Contestants\"])):\n",
    "        if len(Contest[\"Con\"]) < 25:\n",
    "            if idx == cursor:\n",
    "                Contest[\"Con\"].append(Contestants[\"Contestants\"][idx])\n",
    "                cursor += 5\n",
    "    Contes[\"Age\"].extend(Contest[\"Con\"])        \n",
    "    i += 1"
   ]
  },
  {
   "cell_type": "code",
   "execution_count": 159,
   "id": "707b7d58",
   "metadata": {},
   "outputs": [],
   "source": [
    "i = 1\n",
    "Contesy ={\"From\":[]}\n",
    "while i <= 7:\n",
    "    url = \"https://bachelor-nation.fandom.com/wiki/The_Bachelor_(Season_\"+str(i)+\")\"\n",
    "    response =requests.get(url)\n",
    "    html_con = response.text\n",
    "    soup = BeautifulSoup(html_con, 'html.parser')\n",
    "    uls = soup.find_all(\"td\",{\"\":\"\"})\n",
    "    cursor = 4\n",
    "    Contestants ={\"Contestants\":[]}\n",
    "    Contest ={\"Con\":[]}\n",
    "    for a in uls:\n",
    "        Con = a.get_text()\n",
    "        Con = Con.strip()\n",
    "        result = Con.split()\n",
    "        Contestants[\"Contestants\"].append(Con)\n",
    "    for idx in range(len(Contestants[\"Contestants\"])):\n",
    "        if len(Contest[\"Con\"]) < 25:\n",
    "            if idx == cursor:\n",
    "                Contest[\"Con\"].append(Contestants[\"Contestants\"][idx])\n",
    "                cursor += 5\n",
    "    Contesy[\"From\"].extend(Contest[\"Con\"])        \n",
    "    i += 1"
   ]
  },
  {
   "cell_type": "code",
   "execution_count": 166,
   "id": "06bc8015",
   "metadata": {},
   "outputs": [],
   "source": [
    "i = 1\n",
    "Conteser ={\"Job\":[]}\n",
    "while i <= 7:\n",
    "    url = \"https://bachelor-nation.fandom.com/wiki/The_Bachelor_(Season_\"+str(i)+\")\"\n",
    "    response =requests.get(url)\n",
    "    html_con = response.text\n",
    "    soup = BeautifulSoup(html_con, 'html.parser')\n",
    "    uls = soup.find_all(\"td\",{\"\":\"\"})\n",
    "    cursor = 5\n",
    "    Contestants ={\"Contestants\":[]}\n",
    "    Contest ={\"Con\":[]}\n",
    "    for a in uls:\n",
    "        Con = a.get_text()\n",
    "        Con = Con.strip()\n",
    "        result = Con.split()\n",
    "        Contestants[\"Contestants\"].append(Con)\n",
    "    for idx in range(len(Contestants[\"Contestants\"])):\n",
    "        if len(Contest[\"Con\"]) < 25:\n",
    "            if idx == cursor:\n",
    "                Contest[\"Con\"].append(Contestants[\"Contestants\"][idx])\n",
    "                cursor += 5\n",
    "    Conteser[\"Job\"].extend(Contest[\"Con\"])        \n",
    "    i += 1"
   ]
  },
  {
   "cell_type": "code",
   "execution_count": 175,
   "id": "01e858d5",
   "metadata": {},
   "outputs": [],
   "source": [
    "i = 1\n",
    "Contesery ={\"Elim Week\":[]}\n",
    "while i <= 7:\n",
    "    url = \"https://bachelor-nation.fandom.com/wiki/The_Bachelor_(Season_\"+str(i)+\")\"\n",
    "    response =requests.get(url)\n",
    "    html_con = response.text\n",
    "    soup = BeautifulSoup(html_con, 'html.parser')\n",
    "    uls = soup.find_all(\"td\",{\"\":\"\"})\n",
    "    cursor = 6\n",
    "    Contestants ={\"Contestants\":[]}\n",
    "    Contest ={\"Con\":[]}\n",
    "    for a in uls:\n",
    "        Con = a.get_text()\n",
    "        Con = Con.strip()\n",
    "        result = Con.split()\n",
    "        Contestants[\"Contestants\"].append(Con)\n",
    "    for idx in range(len(Contestants[\"Contestants\"])):\n",
    "        if len(Contest[\"Con\"]) < 25:\n",
    "            if idx == cursor:\n",
    "                Contest[\"Con\"].append(Contestants[\"Contestants\"][idx])\n",
    "                cursor += 5\n",
    "    Contesery[\"Elim Week\"].extend(Contest[\"Con\"])        \n",
    "    i += 1"
   ]
  },
  {
   "cell_type": "code",
   "execution_count": 176,
   "id": "4722275c",
   "metadata": {},
   "outputs": [],
   "source": [
    "df = pd.DataFrame(Cont)"
   ]
  },
  {
   "cell_type": "code",
   "execution_count": 177,
   "id": "ed6dd167",
   "metadata": {},
   "outputs": [],
   "source": [
    "df1 = pd.DataFrame(Contes)"
   ]
  },
  {
   "cell_type": "code",
   "execution_count": 178,
   "id": "9555f464",
   "metadata": {},
   "outputs": [],
   "source": [
    "df2 = pd.DataFrame(Contesy)"
   ]
  },
  {
   "cell_type": "code",
   "execution_count": 179,
   "id": "25eb91c8",
   "metadata": {},
   "outputs": [],
   "source": [
    "df3 = pd.DataFrame(Conteser)"
   ]
  },
  {
   "cell_type": "code",
   "execution_count": 180,
   "id": "ba7a9d17",
   "metadata": {},
   "outputs": [],
   "source": [
    "df4 = pd.DataFrame(Contesery)"
   ]
  },
  {
   "cell_type": "code",
   "execution_count": 181,
   "id": "452cfae2",
   "metadata": {},
   "outputs": [],
   "source": [
    "Tdf = pd.merge(df, df1, left_index=True, right_index=True)\n",
    "Tdf = pd.merge(Tdf, df2, left_index=True, right_index=True)\n",
    "Tdf = pd.merge(Tdf, df3, left_index=True, right_index=True)\n",
    "Tdf = pd.merge(Tdf, df4, left_index=True, right_index=True)"
   ]
  },
  {
   "cell_type": "code",
   "execution_count": 186,
   "id": "ba55a789",
   "metadata": {},
   "outputs": [
    {
     "name": "stdout",
     "output_type": "stream",
     "text": [
      "<class 'pandas.core.frame.DataFrame'>\n",
      "RangeIndex: 175 entries, 0 to 174\n",
      "Data columns (total 5 columns):\n",
      " #   Column     Non-Null Count  Dtype \n",
      "---  ------     --------------  ----- \n",
      " 0   Name       175 non-null    object\n",
      " 1   Age        175 non-null    object\n",
      " 2   From       175 non-null    object\n",
      " 3   Job        175 non-null    object\n",
      " 4   Elim Week  175 non-null    object\n",
      "dtypes: object(5)\n",
      "memory usage: 7.0+ KB\n"
     ]
    }
   ],
   "source": [
    "Tdf.info()"
   ]
  },
  {
   "cell_type": "code",
   "execution_count": 185,
   "id": "b17e50d2",
   "metadata": {},
   "outputs": [
    {
     "data": {
      "text/html": [
       "<div>\n",
       "<style scoped>\n",
       "    .dataframe tbody tr th:only-of-type {\n",
       "        vertical-align: middle;\n",
       "    }\n",
       "\n",
       "    .dataframe tbody tr th {\n",
       "        vertical-align: top;\n",
       "    }\n",
       "\n",
       "    .dataframe thead th {\n",
       "        text-align: right;\n",
       "    }\n",
       "</style>\n",
       "<table border=\"1\" class=\"dataframe\">\n",
       "  <thead>\n",
       "    <tr style=\"text-align: right;\">\n",
       "      <th></th>\n",
       "      <th>Name</th>\n",
       "      <th>Age</th>\n",
       "      <th>From</th>\n",
       "      <th>Job</th>\n",
       "      <th>Elim Week</th>\n",
       "    </tr>\n",
       "  </thead>\n",
       "  <tbody>\n",
       "    <tr>\n",
       "      <th>0</th>\n",
       "      <td>Amanda Marsh</td>\n",
       "      <td>23</td>\n",
       "      <td>Chanute, Kansas</td>\n",
       "      <td>Event planner</td>\n",
       "      <td>Winner</td>\n",
       "    </tr>\n",
       "    <tr>\n",
       "      <th>1</th>\n",
       "      <td>Trista Rehn</td>\n",
       "      <td>29</td>\n",
       "      <td>Miami, Florida</td>\n",
       "      <td>Miami heat dancer</td>\n",
       "      <td>Runner-Up</td>\n",
       "    </tr>\n",
       "    <tr>\n",
       "      <th>2</th>\n",
       "      <td>Shannon Oliver</td>\n",
       "      <td>24</td>\n",
       "      <td>Dallas, Texas</td>\n",
       "      <td>Financial management consultant</td>\n",
       "      <td>Week 5</td>\n",
       "    </tr>\n",
       "    <tr>\n",
       "      <th>3</th>\n",
       "      <td>Kim</td>\n",
       "      <td>24</td>\n",
       "      <td>Tempe, Arizona</td>\n",
       "      <td>Nanny</td>\n",
       "      <td>Week 4</td>\n",
       "    </tr>\n",
       "    <tr>\n",
       "      <th>4</th>\n",
       "      <td>Cathy Grimes</td>\n",
       "      <td>22</td>\n",
       "      <td>Terra Haute, Indiana</td>\n",
       "      <td>Graduate student</td>\n",
       "      <td>Week 3</td>\n",
       "    </tr>\n",
       "  </tbody>\n",
       "</table>\n",
       "</div>"
      ],
      "text/plain": [
       "             Name Age                  From                              Job  \\\n",
       "0    Amanda Marsh  23       Chanute, Kansas                    Event planner   \n",
       "1     Trista Rehn  29        Miami, Florida                Miami heat dancer   \n",
       "2  Shannon Oliver  24         Dallas, Texas  Financial management consultant   \n",
       "3             Kim  24        Tempe, Arizona                            Nanny   \n",
       "4    Cathy Grimes  22  Terra Haute, Indiana                 Graduate student   \n",
       "\n",
       "   Elim Week  \n",
       "0     Winner  \n",
       "1  Runner-Up  \n",
       "2     Week 5  \n",
       "3     Week 4  \n",
       "4     Week 3  "
      ]
     },
     "execution_count": 185,
     "metadata": {},
     "output_type": "execute_result"
    }
   ],
   "source": [
    "Tdf.head()"
   ]
  },
  {
   "cell_type": "code",
   "execution_count": 112,
   "id": "08c1688a",
   "metadata": {},
   "outputs": [],
   "source": [
    "# Read data into a dataframe.\n",
    "# Don't forget to call info()!"
   ]
  },
  {
   "cell_type": "markdown",
   "id": "880ff05f",
   "metadata": {},
   "source": [
    "### 2. Training Your Model\n",
    "In the cell seen below, write the code you need to train a linear regression model. Make sure you display the equation of the plane that best fits your chosen data at the end of your program. \n",
    "\n",
    "*Note, level 5 work trains a model using only the standard Python library and Pandas. A level 5 model is trained with at least two features, where one of the features begins as a categorical value (e.g. occupation, hometown, etc.). A level 4 uses external libraries like scikit or numpy.*"
   ]
  },
  {
   "cell_type": "code",
   "execution_count": 4,
   "id": "a87a9144",
   "metadata": {},
   "outputs": [],
   "source": [
    "# Train model here.\n",
    "# Don't forget to display the equation of the plane that best fits your data!"
   ]
  },
  {
   "cell_type": "markdown",
   "id": "cfb2b903",
   "metadata": {},
   "source": [
    "### 3. Testing Your Model\n",
    "In the cell seen below, write the code you need to test your linear regression model. \n",
    "\n",
    "*Note, a model is considered a level 5 if it achieves at least 60% prediction accuracy or achieves an RMSE of 2 weeks or less.*"
   ]
  },
  {
   "cell_type": "code",
   "execution_count": 2,
   "id": "24f8b990",
   "metadata": {},
   "outputs": [],
   "source": [
    "# Test model here."
   ]
  },
  {
   "cell_type": "markdown",
   "id": "343eb3f7",
   "metadata": {},
   "source": [
    "### 4. Final Answer\n",
    "\n",
    "In the first cell seen below, state the name of your predicted winner. \n",
    "In the second cell seen below, justify your prediction using an evaluation technique like RMSE or percent accuracy."
   ]
  },
  {
   "cell_type": "markdown",
   "id": "25533722",
   "metadata": {},
   "source": [
    "#### State the name of your predicted winner here."
   ]
  },
  {
   "cell_type": "markdown",
   "id": "e29adde2",
   "metadata": {},
   "source": [
    "#### Justify your prediction here."
   ]
  }
 ],
 "metadata": {
  "kernelspec": {
   "display_name": "Python 3 (ipykernel)",
   "language": "python",
   "name": "python3"
  },
  "language_info": {
   "codemirror_mode": {
    "name": "ipython",
    "version": 3
   },
   "file_extension": ".py",
   "mimetype": "text/x-python",
   "name": "python",
   "nbconvert_exporter": "python",
   "pygments_lexer": "ipython3",
   "version": "3.9.13"
  }
 },
 "nbformat": 4,
 "nbformat_minor": 5
}
